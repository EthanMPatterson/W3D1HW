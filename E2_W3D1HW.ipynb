{
 "cells": [
  {
   "cell_type": "markdown",
   "metadata": {},
   "source": [
    "### Exercise 1 - Write a Python class for an Animal that has a name and energy attributes. The animal class should also have methods for eat, sleep, and play that will take in an integer and increase/decrease the energy of the animal with a formatted print statement"
   ]
  },
  {
   "cell_type": "code",
   "execution_count": 36,
   "metadata": {},
   "outputs": [],
   "source": [
    "class Animal:\n",
    "    def __init__(self, name, energy):\n",
    "        self.name = name \n",
    "        self.energy = energy\n",
    "    def wake(self):\n",
    "        print(f\"{self.name} is awake and currently has {self.energy} energy. You can feed him 'meat' or an 'apple' if you'd like. You can also play with your pet by talking them for 'walk', 'run', or 'swim'\")\n",
    "    def play(self, activity):\n",
    "        if activity == \"walk\":\n",
    "            self.energy -= 50\n",
    "            print(f\"You took {self.name} for a walk and they lost 50 energy. {self.name} currently has {self.energy} energy left.\")\n",
    "        elif activity == \"swim\":\n",
    "            self.energy -= 75\n",
    "            print(f\"You took {self.name} for a swim and they lost 75 energy. {self.name} currently has {self.energy} energy left.\")\n",
    "        elif activity == \"run\":\n",
    "            self.energy -= 100\n",
    "            print(f\"You took {self.name} for a run and they lost 100 energy. {self.name} currently has {self.energy} energy left.\")\n",
    "        else:\n",
    "            print(f\"Please choose between the activities 'walk' 'swim' or 'run'\")\n",
    "        if self.energy <= 0:\n",
    "            print(f\"WARNING!!!{self.name} has fainted please put him to sleep so he can regain some energy!\")    \n",
    "    def sleep(self, sleep_duration):\n",
    "        if sleep_duration <= 12 and sleep_duration > 0:\n",
    "            self.energy += sleep_duration*10\n",
    "            print(f\"{self.name} has slept for {sleep_duration} hours and has gained {sleep_duration * 10} energy for a total of {self.energy} energy!\")\n",
    "        else: \n",
    "            print(\"Please enter a valid integer between 1 and 12\")\n",
    "    def eat(self, food_type):\n",
    "        if food_type == \"apple\":\n",
    "            self.energy += 5 \n",
    "            print(f\"{self.name} ate a few bites of an apple before looking up at you expectantly, {self.name} gained 5 energy.\")\n",
    "        elif food_type == \"meat\":\n",
    "            self.energy += 20\n",
    "            print(f\"{self.name} at a large chunk of meat and has gain 20 energy!\")\n",
    "        else:\n",
    "            print(f\"Error!!!{food_type} is not recognized. Please chose 'apple' or 'meat' to eat\")\n",
    "        print(f\"\\n{self.name}'s energy level is currently {self.energy}\")\n",
    "\n",
    "my_pet = Animal(\"Jedi\", 150)\n",
    "\n",
    "\n",
    "\n"
   ]
  },
  {
   "cell_type": "code",
   "execution_count": 37,
   "metadata": {},
   "outputs": [
    {
     "name": "stdout",
     "output_type": "stream",
     "text": [
      "Jedi is awake and currently has 150 energy. You can feed him 'meat' or an 'apple' if you'd like. You can also play with your pet by talking them for 'walk', 'run', or 'swim'\n",
      "You took Jedi for a walk and they lost 50 energy. Jedi currently has 100 energy left.\n",
      "Jedi at a large chunk of meat and has gain 20 energy!\n",
      "\n",
      "Jedi's energy level is currently 120\n",
      "You took Jedi for a swim and they lost 75 energy. Jedi currently has 45 energy left.\n",
      "You took Jedi for a run and they lost 100 energy. Jedi currently has -55 energy left.\n",
      "Jedi has fainted please put him to sleep so he can regain some energy!\n"
     ]
    }
   ],
   "source": [
    "my_pet.wake()\n",
    "my_pet.play(\"walk\")\n",
    "my_pet.eat('meat')\n",
    "my_pet.play('swim')\n",
    "my_pet.play('run')\n"
   ]
  },
  {
   "cell_type": "code",
   "execution_count": null,
   "metadata": {},
   "outputs": [],
   "source": []
  }
 ],
 "metadata": {
  "kernelspec": {
   "display_name": "Python 3",
   "language": "python",
   "name": "python3"
  },
  "language_info": {
   "codemirror_mode": {
    "name": "ipython",
    "version": 3
   },
   "file_extension": ".py",
   "mimetype": "text/x-python",
   "name": "python",
   "nbconvert_exporter": "python",
   "pygments_lexer": "ipython3",
   "version": "3.12.2"
  }
 },
 "nbformat": 4,
 "nbformat_minor": 2
}
