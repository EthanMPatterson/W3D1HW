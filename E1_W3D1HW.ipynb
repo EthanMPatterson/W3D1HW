{
 "cells": [
  {
   "cell_type": "code",
   "execution_count": 4,
   "metadata": {},
   "outputs": [],
   "source": [
    "class Cart:\n",
    "    def __init__(self):\n",
    "        self.items = []\n",
    "\n",
    "    def add_item(self, item, price, quantity=1):\n",
    "        self.items.append({\"item\": item, \"price\": price, \"quantity\": quantity})\n",
    "\n",
    "    def remove_item(self, item):\n",
    "        for item in self.items:\n",
    "            if item[\"item\"] == item:\n",
    "                self.items.remove(item)\n",
    "                return\n",
    "\n",
    "    def display_cart(self):\n",
    "        if not self.items:\n",
    "            print(\"Your cart is empty.\")\n",
    "            return\n",
    "\n",
    "        print(\"Shopping Cart:\")\n",
    "        for item in self.items:\n",
    "            print(f\"Item: {item['item']} | Price: ${item['price']} | Quantity: {item['quantity']}\")\n",
    "\n",
    "    def total(self):\n",
    "        total = sum(item[\"price\"] * item[\"quantity\"] for item in self.items)\n",
    "        print(f\"Total: ${total:.2f}\")\n"
   ]
  },
  {
   "cell_type": "code",
   "execution_count": 5,
   "metadata": {},
   "outputs": [
    {
     "name": "stdout",
     "output_type": "stream",
     "text": [
      "Shopping Cart:\n",
      "Item: Bags | Price: $0.99 | Quantity: 5\n",
      "Item: Bananas | Price: $0.75 | Quantity: 3\n",
      "Item: Dog Food | Price: $19.99 | Quantity: 1\n",
      "Total: $27.19\n",
      "Shopping Cart:\n",
      "Item: Bags | Price: $0.99 | Quantity: 5\n",
      "Item: Bananas | Price: $0.75 | Quantity: 3\n",
      "Item: Dog Food | Price: $19.99 | Quantity: 1\n"
     ]
    }
   ],
   "source": [
    "\n",
    "my_cart = Cart()\n",
    "my_cart.add_item(\"Bags\", 0.99, 5)\n",
    "my_cart.add_item(\"Bananas\", 0.75, 3)\n",
    "my_cart.add_item(\"Dog Food\", 19.99, 1)\n",
    "my_cart.display_cart()\n",
    "my_cart.total()\n",
    "my_cart.remove_item(\"Apple\")\n",
    "my_cart.display_cart()"
   ]
  },
  {
   "cell_type": "code",
   "execution_count": null,
   "metadata": {},
   "outputs": [],
   "source": []
  }
 ],
 "metadata": {
  "kernelspec": {
   "display_name": "Python 3",
   "language": "python",
   "name": "python3"
  },
  "language_info": {
   "codemirror_mode": {
    "name": "ipython",
    "version": 3
   },
   "file_extension": ".py",
   "mimetype": "text/x-python",
   "name": "python",
   "nbconvert_exporter": "python",
   "pygments_lexer": "ipython3",
   "version": "3.12.2"
  }
 },
 "nbformat": 4,
 "nbformat_minor": 2
}
